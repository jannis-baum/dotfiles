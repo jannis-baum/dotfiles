{
 "cells": [
  {
   "cell_type": "code",
   "execution_count": 1,
   "metadata": {},
   "outputs": [],
   "source": [
    "from string import ascii_uppercase, ascii_lowercase\n",
    "\n",
    "key_lookup = {\n",
    "    '`': 'grave_accent_or_tilde', '~': '!Sgrave_accent_or_tilde',\n",
    "    '!': '!S1', '@': '!S2', '#': '!S3', '$': '!S4', '%': '!S5', '^': '!S6', '&': '!S7', '*': '!S8', '(': '!S9', ')': '!S0',\n",
    "    '-': 'hyphen', '_': '!Shyphen', '=': 'equal_sign', '+': '!Sequal_sign', 'del': 'delete_or_backspace',\n",
    "    '[': 'open_bracket', '{': '!Sopen_bracket', ']': 'close_bracket', '}': '!Sclose_bracket', '\\\\': 'backslash', '|': '!Sbackslash',\n",
    "    ';': 'semicolon', ':': '!Ssemicolon', \"'\": 'quote', '\"': '!Squote', 'ret': 'return_or_enter',\n",
    "    ',': 'comma', '<': '!Scomma', '.': 'period', '>': '!Speriod', '/': 'slash', '?': '!Sslash',\n",
    "}\n",
    "\n",
    "def express(char):\n",
    "    if char in ascii_uppercase: return f'!S{char.lower()}'\n",
    "    if char in key_lookup: return key_lookup[char]\n",
    "    return char\n",
    "\n",
    "# all non-modifier keys (not including f-keys)\n",
    "keys_all = list(ascii_lowercase) + [str(i) for i in range(10)] + ['tab', '`', '-', '=', 'del', ';', \"'\", 'ret', ',', '.', '/']"
   ]
  },
  {
   "cell_type": "code",
   "execution_count": 8,
   "metadata": {},
   "outputs": [],
   "source": [
    "boilerplate = \"\"\"\n",
    ":templates {{:delay-set-var \"sleep 0.1 && /Library/Application\\\\\\\\ Support/org.pqrs/Karabiner-Elements/bin/karabiner_cli --set-variables '{{\\\\\"%s\\\\\": %d}}'\"}}\n",
    ":main [\n",
    "{}\n",
    "]\n",
    "\"\"\"\n",
    "def generate(keys_used, layers):\n",
    "    ins = str()\n",
    "    unused = [key for key in keys_all if key not in keys_used]\n",
    "    for layer in layers:\n",
    "        # base layer\n",
    "        ins += f'    {{:des \"{layer[\"desc\"]}\",\\n' +\\\n",
    "               f'    :rules [:[{layer[\"name\"]} 0]\\n' +\\\n",
    "                '        ' + ' '.join(\n",
    "                         [f'[:{express(k)} :{express(m)}]' for k, m in zip(keys_used, layer['base'])] +\n",
    "                         [f'[:{express(k)} :vk_none]' for k in unused]\n",
    "                ) + ']}\\n'\n",
    "        for n, mod in enumerate(layer['modifiers']):\n",
    "            ins += f'    {{:des \"{mod[\"desc\"]}\",\\n' +\\\n",
    "                   f'    :rules [\\n' +\\\n",
    "                   f'        [:{mod[\"activator\"]} [[\"{layer[\"name\"]}_{n+1}_held\" 1] [\"{layer[\"name\"]}\" {n+1}]] nil ' +\\\n",
    "                                 f'{{:afterup [[\"{layer[\"name\"]}_{n+1}_held\" 0] [:delay-set-var \"{layer[\"name\"]}\" 0]]}}]\\n' +\\\n",
    "                   f'        [\"{layer[\"name\"]}\" {n+1}]\\n' +\\\n",
    "                    '        ' + ' '.join(\n",
    "                             [f'[:{express(k)} :{express(m)}]' for k, m in zip(keys_used, mod['map'])]\n",
    "                    ) + ']}\\n'\n",
    "    return boilerplate.format(ins)"
   ]
  },
  {
   "cell_type": "code",
   "execution_count": 9,
   "metadata": {},
   "outputs": [
    {
     "name": "stdout",
     "output_type": "stream",
     "text": [
      "\n",
      ":templates {:delay-set-var \"sleep 0.1 && /Library/Application\\\\ Support/org.pqrs/Karabiner-Elements/bin/karabiner_cli --set-variables '{\\\"%s\\\": %d}'\"}\n",
      ":main [\n",
      "    {:des \"primary layer: base\",\n",
      "    :rules [:[layer_prim 0]\n",
      "        [:tab :tab] [:q :q] [:w :w] [:e :e] [:r :r] [:t :t] [:y :y] [:u :u] [:i :i] [:o :o] [:p :p] [:open_bracket :delete_or_backspace] [:a :a] [:s :s] [:d :d] [:f :f] [:g :g] [:h :h] [:j :j] [:k :k] [:l :l] [:semicolon :semicolon] [:quote :quote] [:z :z] [:x :x] [:c :c] [:v :v] [:b :b] [:n :n] [:m :m] [:comma :comma] [:period :period] [:slash :slash] [:return_or_enter :return_or_enter] [:0 :vk_none] [:1 :vk_none] [:2 :vk_none] [:3 :vk_none] [:4 :vk_none] [:5 :vk_none] [:6 :vk_none] [:7 :vk_none] [:8 :vk_none] [:9 :vk_none] [:grave_accent_or_tilde :vk_none] [:hyphen :vk_none] [:equal_sign :vk_none] [:delete_or_backspace :vk_none]]}\n",
      "    {:des \"primary layer: caps\",\n",
      "    :rules [\n",
      "        [:left_shift [[\"layer_prim_1_held\" 1] [\"layer_prim\" 1]] nil {:afterup [[\"layer_prim_1_held\" 0] [:delay-set-var \"layer_prim\" 0]]}]\n",
      "        [\"layer_prim\" 1]\n",
      "        [:tab :tab] [:q :!Sq] [:w :!Sw] [:e :!Se] [:r :!Sr] [:t :!St] [:y :!Sy] [:u :!Su] [:i :!Si] [:o :!So] [:p :!Sp] [:open_bracket :delete_or_backspace] [:a :!Sa] [:s :!Ss] [:d :!Sd] [:f :!Sf] [:g :!Sg] [:h :!Sh] [:j :!Sj] [:k :!Sk] [:l :!Sl] [:semicolon :!Ssemicolon] [:quote :!Squote] [:z :!Sz] [:x :!Sx] [:c :!Sc] [:v :!Sv] [:b :!Sb] [:n :!Sn] [:m :!Sm] [:comma :!Scomma] [:period :!Speriod] [:slash :!Sslash] [:return_or_enter :return_or_enter]]}\n",
      "    {:des \"primary layer: numchar\",\n",
      "    :rules [\n",
      "        [:right_shift [[\"layer_prim_2_held\" 1] [\"layer_prim\" 2]] nil {:afterup [[\"layer_prim_2_held\" 0] [:delay-set-var \"layer_prim\" 0]]}]\n",
      "        [\"layer_prim\" 2]\n",
      "        [:tab :tab] [:q :7] [:w :8] [:e :9] [:r :!S1] [:t :!S2] [:y :!S3] [:u :!S8] [:i :open_bracket] [:o :close_bracket] [:p :!Sequal_sign] [:open_bracket :delete_or_backspace] [:a :4] [:s :5] [:d :6] [:f :!Sbackslash] [:g :backslash] [:h :!S5] [:j :hyphen] [:k :!S9] [:l :!S0] [:semicolon :equal_sign] [:quote :!Sgrave_accent_or_tilde] [:z :1] [:x :2] [:c :3] [:v :!S6] [:b :!S4] [:n :!S7] [:m :!Shyphen] [:comma :!Sopen_bracket] [:period :!Sclose_bracket] [:slash :grave_accent_or_tilde] [:return_or_enter :return_or_enter]]}\n",
      "\n",
      "]\n",
      "\n"
     ]
    }
   ],
   "source": [
    "goku = generate(\n",
    "    keys_used = [\n",
    "        'tab', 'q', 'w', 'e', 'r', 't',     'y', 'u', 'i', 'o', 'p', '[',\n",
    "               'a', 's', 'd', 'f', 'g',     'h', 'j', 'k', 'l', ';', \"'\",\n",
    "               'z', 'x', 'c', 'v', 'b',     'n', 'm', ',', '.', '/', 'ret'\n",
    "    ],\n",
    "    layers = [\n",
    "        {\n",
    "            'name': 'layer_prim', 'desc': 'primary layer: base',\n",
    "            'base': [\n",
    "                'tab', 'q', 'w', 'e', 'r', 't',     'y', 'u', 'i', 'o', 'p', 'del',\n",
    "                       'a', 's', 'd', 'f', 'g',     'h', 'j', 'k', 'l', ';', \"'\",\n",
    "                       'z', 'x', 'c', 'v', 'b',     'n', 'm', ',', '.', '/', 'ret'\n",
    "            ],\n",
    "            'modifiers': [\n",
    "                {\n",
    "                    'desc': 'primary layer: caps', 'activator': 'left_shift',\n",
    "                    'map': [\n",
    "                        'tab', 'Q', 'W', 'E', 'R', 'T',     'Y', 'U', 'I', 'O', 'P', 'del',\n",
    "                               'A', 'S', 'D', 'F', 'G',     'H', 'J', 'K', 'L', ':', '\"',\n",
    "                               'Z', 'X', 'C', 'V', 'B',     'N', 'M', '<', '>', '?', 'ret'\n",
    "                    ],\n",
    "                }, {\n",
    "                    'desc': 'primary layer: numchar', 'activator': 'right_shift',\n",
    "                    'map': [\n",
    "                        'tab', '7', '8', '9', '!', '@',     '#', '*', '[', ']', '+', 'del',\n",
    "                               '4', '5', '6', '|', '\\\\',    '%', '-', '(', ')', '=', '~',\n",
    "                               '1', '2', '3', '^', '$',     '&', '_', '{', '}', '`', 'ret'\n",
    "                    ],\n",
    "                }\n",
    "            ]\n",
    "\n",
    "        }\n",
    "    ]\n",
    ")\n",
    "print(goku)"
   ]
  },
  {
   "cell_type": "code",
   "execution_count": null,
   "metadata": {},
   "outputs": [],
   "source": []
  },
  {
   "cell_type": "code",
   "execution_count": null,
   "metadata": {},
   "outputs": [],
   "source": []
  }
 ],
 "metadata": {
  "interpreter": {
   "hash": "aee8b7b246df8f9039afb4144a1f6fd8d2ca17a180786b69acc140d282b71a49"
  },
  "kernelspec": {
   "display_name": "Python 3.9.9 64-bit",
   "language": "python",
   "name": "python3"
  },
  "language_info": {
   "codemirror_mode": {
    "name": "ipython",
    "version": 3
   },
   "file_extension": ".py",
   "mimetype": "text/x-python",
   "name": "python",
   "nbconvert_exporter": "python",
   "pygments_lexer": "ipython3",
   "version": "3.9.9"
  },
  "orig_nbformat": 4
 },
 "nbformat": 4,
 "nbformat_minor": 2
}
