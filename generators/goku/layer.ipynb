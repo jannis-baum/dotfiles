{
 "cells": [
  {
   "cell_type": "code",
   "execution_count": 7,
   "metadata": {},
   "outputs": [],
   "source": [
    "from string import ascii_uppercase, ascii_lowercase\n",
    "def express(char):\n",
    "    if char in ascii_uppercase: return f'!S{char.lower()}'\n",
    "    return {\n",
    "        '`': 'grave_accent_or_tilde', '~': '!Sgrave_accent_or_tilde',\n",
    "        '!': '!S1', '@': '!S2', '#': '!S3', '$': '!S4', '%': '!S5', '^': '!S6', '&': '!S7', '*': '!S8', '(': '!S9', ')': '!S0',\n",
    "        '-': 'hyphen', '_': '!Shyphen', '=': 'equal_sign', '+': '!Sequal_sign', 'del': 'delete_or_backspace',\n",
    "        '[': 'open_bracket', '{': '!Sopen_bracket', ']': 'close_bracket', '}': '!Sclose_bracket', '\\\\': 'backslash', '|': '!Sbackslash',\n",
    "        ';': 'semicolon', ':': '!Ssemicolon', \"'\": 'quote', '\"': '!Squote', 'ret': 'return_or_enter',\n",
    "        ',': 'comma', '<': '!Scomma', '.': 'period', '>': '!Speriod', '/': 'slash', '?': '!Sslash',\n",
    "    }[char]\n",
    "keys_all = list(ascii_lowercase) + list(range(10)) + [\n",
    "    'tab', '`', '-', '=', 'del', ';', \"'\", 'ret', ',', '.', '/'\n",
    "]"
   ]
  },
  {
   "cell_type": "code",
   "execution_count": 8,
   "metadata": {},
   "outputs": [],
   "source": [
    "keys_used = [\n",
    "    'tab', 'q', 'w', 'e', 'r', 't',     'y', 'u', 'i', 'o', 'p', '[',\n",
    "           'a', 's', 'd', 'f', 'g',     'h', 'j', 'k', 'l', ';', \"'\",\n",
    "           'z', 'x', 'c', 'v', 'b',     'n', 'm', ',', '.', '/', 'ret'\n",
    "]\n",
    "layers = [\n",
    "    {\n",
    "        'name': 'layer_prim', 'desc': 'primary layer: base',\n",
    "        'base': [\n",
    "            'tab', 'q', 'w', 'e', 'r', 't',     'y', 'u', 'i', 'o', 'p', 'del',\n",
    "                   'a', 's', 'd', 'f', 'g',     'h', 'j', 'k', 'l', ';', \"'\",\n",
    "                   'z', 'x', 'c', 'v', 'b',     'n', 'm', ',', '.', '/', 'ret'\n",
    "        ],\n",
    "        'modifiers': [\n",
    "            {\n",
    "                'desc': 'primary layer: caps', 'activator': 'left_shift',\n",
    "                'map': [\n",
    "                    'tab', 'Q', 'W', 'E', 'R', 'T',     'Y', 'U', 'I', 'O', 'P', 'del',\n",
    "                           'A', 'S', 'D', 'F', 'G',     'H', 'J', 'K', 'L', ':', '\"',\n",
    "                           'Z', 'X', 'C', 'V', 'B',     'N', 'M', '<', '>', '?', 'ret'\n",
    "                ],\n",
    "            }, {\n",
    "                'desc': 'primary layer: numchar', 'activator': 'right_shift',\n",
    "                'map': [\n",
    "                    'tab', '7', '8', '9', '!', '@',     '#', '*', '[', ']', '+', 'del',\n",
    "                           '4', '5', '6', '|', '\\\\',    '%', '-', '(', ')', '=', '~',\n",
    "                           '1', '2', '3', '^', '$',     '&', '_', '{', '}', '`', 'ret'\n",
    "                ],\n",
    "            }\n",
    "        ]\n",
    "\n",
    "    }\n",
    "]"
   ]
  },
  {
   "cell_type": "code",
   "execution_count": null,
   "metadata": {},
   "outputs": [],
   "source": []
  }
 ],
 "metadata": {
  "interpreter": {
   "hash": "aee8b7b246df8f9039afb4144a1f6fd8d2ca17a180786b69acc140d282b71a49"
  },
  "kernelspec": {
   "display_name": "Python 3.9.9 64-bit",
   "language": "python",
   "name": "python3"
  },
  "language_info": {
   "codemirror_mode": {
    "name": "ipython",
    "version": 3
   },
   "file_extension": ".py",
   "mimetype": "text/x-python",
   "name": "python",
   "nbconvert_exporter": "python",
   "pygments_lexer": "ipython3",
   "version": "3.9.9"
  },
  "orig_nbformat": 4
 },
 "nbformat": 4,
 "nbformat_minor": 2
}
