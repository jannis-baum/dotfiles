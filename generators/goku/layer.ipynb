{
 "cells": [
  {
   "cell_type": "code",
   "execution_count": 21,
   "metadata": {},
   "outputs": [],
   "source": [
    "from string import ascii_uppercase, ascii_lowercase\n",
    "key_lookup = {\n",
    "    '`': 'grave_accent_or_tilde', '~': '!Sgrave_accent_or_tilde',\n",
    "    '!': '!S1', '@': '!S2', '#': '!S3', '$': '!S4', '%': '!S5', '^': '!S6', '&': '!S7', '*': '!S8', '(': '!S9', ')': '!S0',\n",
    "    '-': 'hyphen', '_': '!Shyphen', '=': 'equal_sign', '+': '!Sequal_sign', 'del': 'delete_or_backspace',\n",
    "    '[': 'open_bracket', '{': '!Sopen_bracket', ']': 'close_bracket', '}': '!Sclose_bracket', '\\\\': 'backslash', '|': '!Sbackslash',\n",
    "    ';': 'semicolon', ':': '!Ssemicolon', \"'\": 'quote', '\"': '!Squote', 'ret': 'return_or_enter',\n",
    "    ',': 'comma', '<': '!Scomma', '.': 'period', '>': '!Speriod', '/': 'slash', '?': '!Sslash',\n",
    "}\n",
    "def express(char):\n",
    "    if char in ascii_uppercase: return f'!S{char.lower()}'\n",
    "    if char in key_lookup: return key_lookup[char]\n",
    "    return char\n",
    "# all non-modifier keys (not including f-keys)\n",
    "keys_all = list(ascii_lowercase) + [str(i) for i in range(10)] + ['tab', '`', '-', '=', 'del', ';', \"'\", 'ret', ',', '.', '/']"
   ]
  },
  {
   "cell_type": "code",
   "execution_count": 26,
   "metadata": {},
   "outputs": [],
   "source": [
    "boilerplate = \"\"\"\n",
    ":templates {{:delay-set-var \"sleep 0.1 && /Library/Application\\\\\\\\ Support/org.pqrs/Karabiner-Elements/bin/karabiner_cli --set-variables '{{\\\\\"%s\\\\\": %d}}'\"}}\n",
    ":main [\n",
    "    {}\n",
    "]\n",
    "\"\"\"\n",
    "def generate(keys_used, layers):\n",
    "    ins = str()\n",
    "    unused = [key for key in keys_all if key not in keys_used]\n",
    "    for layer in layers:\n",
    "        # base layer\n",
    "        ins += f'{{:des \"{layer[\"desc\"]}\",\\n    :rules [:[{layer[\"name\"]} 0]\\n' + ' ' * 8\n",
    "        ins += ' '.join(\n",
    "            [f'[:{express(k)} :{express(m)}]' for k, m in zip(keys_used, layer['base'])] +\n",
    "            [f'[:{express(k)} :vk_none]' for k in unused]\n",
    "        ) + ']}'\n",
    "    return boilerplate.format(ins)"
   ]
  },
  {
   "cell_type": "code",
   "execution_count": 27,
   "metadata": {},
   "outputs": [
    {
     "name": "stdout",
     "output_type": "stream",
     "text": [
      "\n",
      ":templates {:delay-set-var \"sleep 0.1 && /Library/Application\\\\ Support/org.pqrs/Karabiner-Elements/bin/karabiner_cli --set-variables '{\\\"%s\\\": %d}'\"}\n",
      ":main [\n",
      "    {:des \"primary layer: base\",\n",
      "    :rules [:[layer_prim 0]\n",
      "        [:tab :tab] [:q :q] [:w :w] [:e :e] [:r :r] [:t :t] [:y :y] [:u :u] [:i :i] [:o :o] [:p :p] [:open_bracket :delete_or_backspace] [:a :a] [:s :s] [:d :d] [:f :f] [:g :g] [:h :h] [:j :j] [:k :k] [:l :l] [:semicolon :semicolon] [:quote :quote] [:z :z] [:x :x] [:c :c] [:v :v] [:b :b] [:n :n] [:m :m] [:comma :comma] [:period :period] [:slash :slash] [:return_or_enter :return_or_enter] [:0 :vk_none] [:1 :vk_none] [:2 :vk_none] [:3 :vk_none] [:4 :vk_none] [:5 :vk_none] [:6 :vk_none] [:7 :vk_none] [:8 :vk_none] [:9 :vk_none] [:grave_accent_or_tilde :vk_none] [:hyphen :vk_none] [:equal_sign :vk_none] [:delete_or_backspace :vk_none]]}\n",
      "]\n",
      "\n"
     ]
    }
   ],
   "source": [
    "goku = generate(\n",
    "    keys_used = [\n",
    "        'tab', 'q', 'w', 'e', 'r', 't',     'y', 'u', 'i', 'o', 'p', '[',\n",
    "               'a', 's', 'd', 'f', 'g',     'h', 'j', 'k', 'l', ';', \"'\",\n",
    "               'z', 'x', 'c', 'v', 'b',     'n', 'm', ',', '.', '/', 'ret'\n",
    "    ],\n",
    "    layers = [\n",
    "        {\n",
    "            'name': 'layer_prim', 'desc': 'primary layer: base',\n",
    "            'base': [\n",
    "                'tab', 'q', 'w', 'e', 'r', 't',     'y', 'u', 'i', 'o', 'p', 'del',\n",
    "                       'a', 's', 'd', 'f', 'g',     'h', 'j', 'k', 'l', ';', \"'\",\n",
    "                       'z', 'x', 'c', 'v', 'b',     'n', 'm', ',', '.', '/', 'ret'\n",
    "            ],\n",
    "            'modifiers': [\n",
    "                {\n",
    "                    'desc': 'primary layer: caps', 'activator': 'left_shift',\n",
    "                    'map': [\n",
    "                        'tab', 'Q', 'W', 'E', 'R', 'T',     'Y', 'U', 'I', 'O', 'P', 'del',\n",
    "                               'A', 'S', 'D', 'F', 'G',     'H', 'J', 'K', 'L', ':', '\"',\n",
    "                               'Z', 'X', 'C', 'V', 'B',     'N', 'M', '<', '>', '?', 'ret'\n",
    "                    ],\n",
    "                }, {\n",
    "                    'desc': 'primary layer: numchar', 'activator': 'right_shift',\n",
    "                    'map': [\n",
    "                        'tab', '7', '8', '9', '!', '@',     '#', '*', '[', ']', '+', 'del',\n",
    "                               '4', '5', '6', '|', '\\\\',    '%', '-', '(', ')', '=', '~',\n",
    "                               '1', '2', '3', '^', '$',     '&', '_', '{', '}', '`', 'ret'\n",
    "                    ],\n",
    "                }\n",
    "            ]\n",
    "\n",
    "        }\n",
    "    ]\n",
    ")\n",
    "print(goku)"
   ]
  },
  {
   "cell_type": "code",
   "execution_count": null,
   "metadata": {},
   "outputs": [],
   "source": []
  }
 ],
 "metadata": {
  "interpreter": {
   "hash": "aee8b7b246df8f9039afb4144a1f6fd8d2ca17a180786b69acc140d282b71a49"
  },
  "kernelspec": {
   "display_name": "Python 3.9.9 64-bit",
   "language": "python",
   "name": "python3"
  },
  "language_info": {
   "codemirror_mode": {
    "name": "ipython",
    "version": 3
   },
   "file_extension": ".py",
   "mimetype": "text/x-python",
   "name": "python",
   "nbconvert_exporter": "python",
   "pygments_lexer": "ipython3",
   "version": "3.9.9"
  },
  "orig_nbformat": 4
 },
 "nbformat": 4,
 "nbformat_minor": 2
}
