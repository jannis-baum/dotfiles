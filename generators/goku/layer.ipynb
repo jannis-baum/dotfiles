{
 "cells": [
  {
   "cell_type": "code",
   "execution_count": null,
   "metadata": {},
   "outputs": [],
   "source": [
    "from string import ascii_uppercase, ascii_lowercase\n",
    "\n",
    "key_lookup = {\n",
    "    '`': 'grave_accent_and_tilde', '~': '!Sgrave_accent_and_tilde',\n",
    "    '!': '!S1', '@': '!S2', '#': '!S3', '$': '!S4', '%': '!S5', '^': '!S6', '&': '!S7', '*': '!S8', '(': '!S9', ')': '!S0',\n",
    "    '-': 'hyphen', '_': '!Shyphen', '=': 'equal_sign', '+': '!Sequal_sign', 'del': 'delete_or_backspace',\n",
    "    '[': 'open_bracket', '{': '!Sopen_bracket', ']': 'close_bracket', '}': '!Sclose_bracket', '\\\\': 'backslash', '|': '!Sbackslash',\n",
    "    ';': 'semicolon', ':': '!Ssemicolon', \"'\": 'quote', '\"': '!Squote', 'ret': 'return_or_enter',\n",
    "    ',': 'comma', '<': '!Scomma', '.': 'period', '>': '!Speriod', '/': 'slash', '?': '!Sslash',\n",
    "    'iterm': 'f9'\n",
    "}\n",
    "\n",
    "def express(char):\n",
    "    if char in ascii_uppercase: return f'!S{char.lower()}'\n",
    "    if char in key_lookup: return key_lookup[char]\n",
    "    return char\n",
    "\n",
    "# all non-modifier keys (not including f-keys)\n",
    "keys_all = list(ascii_lowercase) + [str(i) for i in range(10)] + ['tab', '`', '-', '=', 'del', ';', \"'\", 'ret', ',', '.', '/']"
   ]
  },
  {
   "cell_type": "code",
   "execution_count": null,
   "metadata": {},
   "outputs": [],
   "source": [
    "boilerplate = \"\"\"\n",
    ":templates {{:delay-set-var \"sleep 0.1 && /Library/Application\\\\\\\\ Support/org.pqrs/Karabiner-Elements/bin/karabiner_cli --set-variables '{{\\\\\"%s\\\\\": %d}}'\"}}\n",
    ":main [\n",
    "{}\n",
    "]\n",
    "\"\"\"\n",
    "def generate(keys_used, layers):\n",
    "    ins = str()\n",
    "    unused = [key for key in keys_all if key not in keys_used]\n",
    "    for layer in layers:\n",
    "        # base layer\n",
    "        ins += f'    {{:des \"{layer[\"desc\"]}\",\\n' +\\\n",
    "               f'    :rules [\\n' +\\\n",
    "                '            ' + ' '.join([f'[:{express(k)} :vk_none]' for k in unused]) + '\\n' +\\\n",
    "                f'       [:condis [\"{layer[\"name\"]}\" 0] ' + ' '.join([f'[\"{layer[\"name\"]}_{n+1}_held\" 0]' for n in range(len(layer[\"modifiers\"]))]) + ']\\n' +\\\n",
    "                '            ' + ' '.join(\n",
    "                             [f'[:{express(k)} :{express(m)}]' for k, m in zip(keys_used, layer['base'])]\n",
    "                ) + ']}\\n'\n",
    "        for n, mod in enumerate(layer['modifiers']):\n",
    "            ins += f'    {{:des \"{mod[\"desc\"]}\",\\n' +\\\n",
    "                   f'    :rules [\\n' +\\\n",
    "                   f'        [:{mod[\"activator\"]} [[\"{layer[\"name\"]}_{n+1}_held\" 1] [\"{layer[\"name\"]}\" {n+1}]] nil ' +\\\n",
    "                                 f'{{:afterup [[\"{layer[\"name\"]}_{n+1}_held\" 0] [:delay-set-var \"{layer[\"name\"]}\" 0]]}}]\\n' +\\\n",
    "                   f'        [:condis [\"{layer[\"name\"]}_{n+1}_held\" 1]]\\n' +\\\n",
    "                    '            ' + ' '.join(\n",
    "                                 [f'[:{express(k)} :{express(m)}]' for k, m in zip(keys_used, mod['map'])]\n",
    "                    ) + '\\n' +\\\n",
    "                   f'        [:condis [\"{layer[\"name\"]}\" {n+1}]]\\n' +\\\n",
    "                    '            ' + ' '.join(\n",
    "                                 [f'[:{express(k)} [:{express(m)} [\"{layer[\"name\"]}\" 0]]]' for k, m in zip(keys_used, mod['map'])]\n",
    "                    ) + ']}\\n'\n",
    "    return boilerplate.format(ins)"
   ]
  },
  {
   "cell_type": "code",
   "execution_count": null,
   "metadata": {},
   "outputs": [],
   "source": [
    "goku = generate(\n",
    "    keys_used = [\n",
    "        'tab', 'q', 'w', 'e', 'r', 't',     'y', 'u', 'i', 'o', 'p', '[', 'del',\n",
    "               'a', 's', 'd', 'f', 'g',     'h', 'j', 'k', 'l', ';', \"'\",\n",
    "               'z', 'x', 'c', 'v', 'b',     'n', 'm', ',', '.', '/', 'ret'\n",
    "    ],\n",
    "    layers = [\n",
    "        {\n",
    "            'name': 'layer_prim', 'desc': 'primary layer: base',\n",
    "            'base': [\n",
    "                'tab', 'q', 'w', 'e', 'r', 't',     'y', 'u', 'i', 'o', 'p', 'del', 'iterm',\n",
    "                       'a', 's', 'd', 'f', 'g',     'h', 'j', 'k', 'l', ';', \"'\",\n",
    "                       'z', 'x', 'c', 'v', 'b',     'n', 'm', ',', '.', '/', 'ret'\n",
    "            ],\n",
    "            'modifiers': [\n",
    "                {\n",
    "                    'desc': 'primary layer: caps', 'activator': 'left_shift',\n",
    "                    'map': [\n",
    "                        'tab', 'Q', 'W', 'E', 'R', 'T',     'Y', 'U', 'I', 'O', 'P', 'del', 'iterm',\n",
    "                               'A', 'S', 'D', 'F', 'G',     'H', 'J', 'K', 'L', ':', '\"',\n",
    "                               'Z', 'X', 'C', 'V', 'B',     'N', 'M', '<', '>', '?', 'ret'\n",
    "                    ],\n",
    "                }, {\n",
    "                    'desc': 'primary layer: numchar', 'activator': 'right_shift',\n",
    "                    'map': [\n",
    "                        'tab', '7', '8', '9', '!', '@',     '#', '*', '[', ']', '+', 'del', 'iterm',\n",
    "                               '4', '5', '6', '|', '\\\\',    '%', '-', '(', ')', '=', '~',\n",
    "                               '1', '2', '3', '^', '$',     '&', '_', '{', '}', '`', 'ret'\n",
    "                    ],\n",
    "                }\n",
    "            ]\n",
    "\n",
    "        }\n",
    "    ]\n",
    ")\n",
    "print(goku)"
   ]
  },
  {
   "cell_type": "code",
   "execution_count": null,
   "metadata": {},
   "outputs": [],
   "source": []
  }
 ],
 "metadata": {
  "interpreter": {
   "hash": "aee8b7b246df8f9039afb4144a1f6fd8d2ca17a180786b69acc140d282b71a49"
  },
  "kernelspec": {
   "display_name": "Python 3.9.9 64-bit",
   "language": "python",
   "name": "python3"
  },
  "language_info": {
   "codemirror_mode": {
    "name": "ipython",
    "version": 3
   },
   "file_extension": ".py",
   "mimetype": "text/x-python",
   "name": "python",
   "nbconvert_exporter": "python",
   "pygments_lexer": "ipython3",
   "version": "3.9.9"
  },
  "orig_nbformat": 4
 },
 "nbformat": 4,
 "nbformat_minor": 2
}
